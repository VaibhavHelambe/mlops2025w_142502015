{
 "cells": [
  {
   "cell_type": "code",
   "id": "initial_id",
   "metadata": {
    "collapsed": true,
    "ExecuteTime": {
     "end_time": "2025-09-30T05:04:48.414147Z",
     "start_time": "2025-09-30T05:03:20.836033Z"
    }
   },
   "source": [
    "from datasets import load_dataset\n",
    "import pandas as pd\n",
    "# Load 2000 training and 500 test examples for speed\n",
    "imdb = load_dataset(\"imdb\")\n",
    "train = pd.DataFrame(imdb[\"train\"].select(range(2000)))\n",
    "test = pd.DataFrame(imdb[\"test\"].select(range(500)))\n",
    "print(\"Train size:\", len(train), \"Test size:\", len(test))\n",
    "train.head()\n"
   ],
   "outputs": [
    {
     "name": "stderr",
     "output_type": "stream",
     "text": [
      "C:\\Users\\helam\\AppData\\Local\\Packages\\PythonSoftwareFoundation.Python.3.12_qbz5n2kfra8p0\\LocalCache\\local-packages\\Python312\\site-packages\\tqdm\\auto.py:21: TqdmWarning: IProgress not found. Please update jupyter and ipywidgets. See https://ipywidgets.readthedocs.io/en/stable/user_install.html\n",
      "  from .autonotebook import tqdm as notebook_tqdm\n",
      "C:\\Users\\helam\\AppData\\Local\\Packages\\PythonSoftwareFoundation.Python.3.12_qbz5n2kfra8p0\\LocalCache\\local-packages\\Python312\\site-packages\\huggingface_hub\\file_download.py:143: UserWarning: `huggingface_hub` cache-system uses symlinks by default to efficiently store duplicated files but your machine does not support them in C:\\Users\\helam\\.cache\\huggingface\\hub\\datasets--imdb. Caching files will still work but in a degraded version that might require more space on your disk. This warning can be disabled by setting the `HF_HUB_DISABLE_SYMLINKS_WARNING` environment variable. For more details, see https://huggingface.co/docs/huggingface_hub/how-to-cache#limitations.\n",
      "To support symlinks on Windows, you either need to activate Developer Mode or to run Python as an administrator. In order to activate developer mode, see this article: https://docs.microsoft.com/en-us/windows/apps/get-started/enable-your-device-for-development\n",
      "  warnings.warn(message)\n",
      "Xet Storage is enabled for this repo, but the 'hf_xet' package is not installed. Falling back to regular HTTP download. For better performance, install the package with: `pip install huggingface_hub[hf_xet]` or `pip install hf_xet`\n",
      "Xet Storage is enabled for this repo, but the 'hf_xet' package is not installed. Falling back to regular HTTP download. For better performance, install the package with: `pip install huggingface_hub[hf_xet]` or `pip install hf_xet`\n",
      "Xet Storage is enabled for this repo, but the 'hf_xet' package is not installed. Falling back to regular HTTP download. For better performance, install the package with: `pip install huggingface_hub[hf_xet]` or `pip install hf_xet`\n",
      "Generating train split: 100%|██████████| 25000/25000 [00:00<00:00, 79535.97 examples/s]\n",
      "Generating test split: 100%|██████████| 25000/25000 [00:00<00:00, 88412.89 examples/s]\n",
      "Generating unsupervised split: 100%|██████████| 50000/50000 [00:00<00:00, 89573.92 examples/s]\n"
     ]
    },
    {
     "name": "stdout",
     "output_type": "stream",
     "text": [
      "Train size: 2000 Test size: 500\n"
     ]
    },
    {
     "data": {
      "text/plain": [
       "                                                text  label\n",
       "0  I rented I AM CURIOUS-YELLOW from my video sto...      0\n",
       "1  \"I Am Curious: Yellow\" is a risible and preten...      0\n",
       "2  If only to avoid making this type of film in t...      0\n",
       "3  This film was probably inspired by Godard's Ma...      0\n",
       "4  Oh, brother...after hearing about this ridicul...      0"
      ],
      "text/html": [
       "<div>\n",
       "<style scoped>\n",
       "    .dataframe tbody tr th:only-of-type {\n",
       "        vertical-align: middle;\n",
       "    }\n",
       "\n",
       "    .dataframe tbody tr th {\n",
       "        vertical-align: top;\n",
       "    }\n",
       "\n",
       "    .dataframe thead th {\n",
       "        text-align: right;\n",
       "    }\n",
       "</style>\n",
       "<table border=\"1\" class=\"dataframe\">\n",
       "  <thead>\n",
       "    <tr style=\"text-align: right;\">\n",
       "      <th></th>\n",
       "      <th>text</th>\n",
       "      <th>label</th>\n",
       "    </tr>\n",
       "  </thead>\n",
       "  <tbody>\n",
       "    <tr>\n",
       "      <th>0</th>\n",
       "      <td>I rented I AM CURIOUS-YELLOW from my video sto...</td>\n",
       "      <td>0</td>\n",
       "    </tr>\n",
       "    <tr>\n",
       "      <th>1</th>\n",
       "      <td>\"I Am Curious: Yellow\" is a risible and preten...</td>\n",
       "      <td>0</td>\n",
       "    </tr>\n",
       "    <tr>\n",
       "      <th>2</th>\n",
       "      <td>If only to avoid making this type of film in t...</td>\n",
       "      <td>0</td>\n",
       "    </tr>\n",
       "    <tr>\n",
       "      <th>3</th>\n",
       "      <td>This film was probably inspired by Godard's Ma...</td>\n",
       "      <td>0</td>\n",
       "    </tr>\n",
       "    <tr>\n",
       "      <th>4</th>\n",
       "      <td>Oh, brother...after hearing about this ridicul...</td>\n",
       "      <td>0</td>\n",
       "    </tr>\n",
       "  </tbody>\n",
       "</table>\n",
       "</div>"
      ]
     },
     "execution_count": 2,
     "metadata": {},
     "output_type": "execute_result"
    }
   ],
   "execution_count": 2
  },
  {
   "metadata": {
    "ExecuteTime": {
     "end_time": "2025-09-30T05:04:49.095086Z",
     "start_time": "2025-09-30T05:04:48.667888Z"
    }
   },
   "cell_type": "code",
   "source": [
    "import re\n",
    "def clean_text(text):\n",
    "    text = re.sub(r\"<br\\s*/?>\", \" \", text)\n",
    "    text = re.sub(r\"[^\\w\\s']\", \"\", text)\n",
    "    return text.lower()\n",
    "train[\"text\"] = train[\"text\"].apply(clean_text)\n",
    "test[\"text\"] = test[\"text\"].apply(clean_text)\n"
   ],
   "id": "c42f899996fe2d55",
   "outputs": [],
   "execution_count": 3
  },
  {
   "metadata": {
    "ExecuteTime": {
     "end_time": "2025-09-30T05:11:33.557663Z",
     "start_time": "2025-09-30T05:11:33.550114Z"
    }
   },
   "cell_type": "code",
   "source": [
    "from snorkel.labeling import labeling_function, LFAnalysis\n",
    "ABSTAIN, NEG, POS = -1, 0, 1\n",
    "positive_words = {\"great\",\"excellent\",\"amazing\",\"wonderful\",\"best\",\"fantastic\"}\n",
    "negative_words = {\"bad\",\"terrible\",\"awful\",\"worst\",\"boring\",\"poor\"}\n",
    "@labeling_function()\n",
    "def lf_positive(x):\n",
    "    return POS if any(word in x.text.split() for word in positive_words) else ABSTAIN\n",
    "@labeling_function()\n",
    "def lf_negative(x):\n",
    "    return NEG if any(word in x.text.split() for word in negative_words) else ABSTAIN\n",
    "@labeling_function()\n",
    "def lf_exclaim(x):\n",
    "    return POS if x.text.count(\"!\") > 2 else ABSTAIN\n",
    "\n",
    "lfs = [lf_positive, lf_negative, lf_exclaim]"
   ],
   "id": "e3be2588e352dabd",
   "outputs": [],
   "execution_count": 5
  },
  {
   "metadata": {
    "ExecuteTime": {
     "end_time": "2025-09-30T05:11:36.416912Z",
     "start_time": "2025-09-30T05:11:36.082013Z"
    }
   },
   "cell_type": "code",
   "source": [
    "from snorkel.labeling import PandasLFApplier\n",
    "applier = PandasLFApplier(lfs)\n",
    "L_train = applier.apply(train)\n",
    "LFAnalysis(L_train, lfs).lf_summary()"
   ],
   "id": "f8f24e2fb742cfd8",
   "outputs": [
    {
     "name": "stderr",
     "output_type": "stream",
     "text": [
      "100%|██████████| 2000/2000 [00:00<00:00, 6473.12it/s]\n"
     ]
    },
    {
     "data": {
      "text/plain": [
       "             j Polarity  Coverage  Overlaps  Conflicts\n",
       "lf_positive  0      [1]    0.3210    0.1795     0.1795\n",
       "lf_negative  1      [0]    0.5635    0.1795     0.1795\n",
       "lf_exclaim   2       []    0.0000    0.0000     0.0000"
      ],
      "text/html": [
       "<div>\n",
       "<style scoped>\n",
       "    .dataframe tbody tr th:only-of-type {\n",
       "        vertical-align: middle;\n",
       "    }\n",
       "\n",
       "    .dataframe tbody tr th {\n",
       "        vertical-align: top;\n",
       "    }\n",
       "\n",
       "    .dataframe thead th {\n",
       "        text-align: right;\n",
       "    }\n",
       "</style>\n",
       "<table border=\"1\" class=\"dataframe\">\n",
       "  <thead>\n",
       "    <tr style=\"text-align: right;\">\n",
       "      <th></th>\n",
       "      <th>j</th>\n",
       "      <th>Polarity</th>\n",
       "      <th>Coverage</th>\n",
       "      <th>Overlaps</th>\n",
       "      <th>Conflicts</th>\n",
       "    </tr>\n",
       "  </thead>\n",
       "  <tbody>\n",
       "    <tr>\n",
       "      <th>lf_positive</th>\n",
       "      <td>0</td>\n",
       "      <td>[1]</td>\n",
       "      <td>0.3210</td>\n",
       "      <td>0.1795</td>\n",
       "      <td>0.1795</td>\n",
       "    </tr>\n",
       "    <tr>\n",
       "      <th>lf_negative</th>\n",
       "      <td>1</td>\n",
       "      <td>[0]</td>\n",
       "      <td>0.5635</td>\n",
       "      <td>0.1795</td>\n",
       "      <td>0.1795</td>\n",
       "    </tr>\n",
       "    <tr>\n",
       "      <th>lf_exclaim</th>\n",
       "      <td>2</td>\n",
       "      <td>[]</td>\n",
       "      <td>0.0000</td>\n",
       "      <td>0.0000</td>\n",
       "      <td>0.0000</td>\n",
       "    </tr>\n",
       "  </tbody>\n",
       "</table>\n",
       "</div>"
      ]
     },
     "execution_count": 6,
     "metadata": {},
     "output_type": "execute_result"
    }
   ],
   "execution_count": 6
  },
  {
   "metadata": {
    "ExecuteTime": {
     "end_time": "2025-09-30T05:12:17.303370Z",
     "start_time": "2025-09-30T05:12:14.806547Z"
    }
   },
   "cell_type": "code",
   "source": [
    "from snorkel.labeling.model import LabelModel\n",
    "\n",
    "label_model = LabelModel(cardinality=2, verbose=True)\n",
    "label_model.fit(L_train=L_train, n_epochs=500, log_freq=100, seed=42)\n",
    "# Get probabilistic labels\n",
    "train_probs = label_model.predict_proba(L_train)"
   ],
   "id": "5e41d81fcc3e1ab1",
   "outputs": [
    {
     "name": "stderr",
     "output_type": "stream",
     "text": [
      "INFO:root:Computing O...\n",
      "INFO:root:Estimating \\mu...\n",
      "  0%|          | 0/500 [00:00<?, ?epoch/s]INFO:root:[0 epochs]: TRAIN:[loss=0.293]\n",
      " 15%|█▌        | 76/500 [00:00<00:00, 758.84epoch/s]INFO:root:[100 epochs]: TRAIN:[loss=0.000]\n",
      " 37%|███▋      | 183/500 [00:00<00:00, 939.51epoch/s]INFO:root:[200 epochs]: TRAIN:[loss=0.000]\n",
      " 57%|█████▋    | 287/500 [00:00<00:00, 982.60epoch/s]INFO:root:[300 epochs]: TRAIN:[loss=0.000]\n",
      " 79%|███████▊  | 393/500 [00:00<00:00, 1011.16epoch/s]INFO:root:[400 epochs]: TRAIN:[loss=0.000]\n",
      "100%|██████████| 500/500 [00:00<00:00, 987.54epoch/s] \n",
      "INFO:root:Finished Training\n"
     ]
    }
   ],
   "execution_count": 8
  },
  {
   "metadata": {
    "ExecuteTime": {
     "end_time": "2025-09-30T05:12:28.319954Z",
     "start_time": "2025-09-30T05:12:28.309064Z"
    }
   },
   "cell_type": "code",
   "source": "train_preds = label_model.predict(L_train)",
   "id": "d0c64f0e6c52a1b8",
   "outputs": [],
   "execution_count": 9
  },
  {
   "metadata": {
    "ExecuteTime": {
     "end_time": "2025-09-30T05:13:39.828815Z",
     "start_time": "2025-09-30T05:13:39.179033Z"
    }
   },
   "cell_type": "code",
   "source": [
    "from sklearn.feature_extraction.text import TfidfVectorizer\n",
    "from sklearn.linear_model import LogisticRegression\n",
    "from sklearn.metrics import classification_report\n",
    "# Vectorize\n",
    "vectorizer = TfidfVectorizer(max_features=5_000)\n",
    "X_train = vectorizer.fit_transform(train[\"text\"])\n",
    "y_train = train_preds\n",
    "# Fit classifier\n",
    "clf = LogisticRegression(max_iter=200)\n",
    "clf.fit(X_train, y_train)\n",
    "# Evaluate on test set\n",
    "X_test = vectorizer.transform(test[\"text\"])\n",
    "y_test = test[\"label\"]\n",
    "preds = clf.predict(X_test)\n",
    "print(classification_report(y_test, preds, target_names=[\"neg\",\"pos\",'exclaim']))"
   ],
   "id": "dbbb6b901df65e86",
   "outputs": [
    {
     "name": "stdout",
     "output_type": "stream",
     "text": [
      "              precision    recall  f1-score   support\n",
      "\n",
      "         neg       0.00      0.00      0.00         0\n",
      "         pos       1.00      0.81      0.90       500\n",
      "     exclaim       0.00      0.00      0.00         0\n",
      "\n",
      "    accuracy                           0.81       500\n",
      "   macro avg       0.33      0.27      0.30       500\n",
      "weighted avg       1.00      0.81      0.90       500\n",
      "\n"
     ]
    },
    {
     "name": "stderr",
     "output_type": "stream",
     "text": [
      "C:\\Users\\helam\\AppData\\Local\\Packages\\PythonSoftwareFoundation.Python.3.12_qbz5n2kfra8p0\\LocalCache\\local-packages\\Python312\\site-packages\\sklearn\\metrics\\_classification.py:1706: UndefinedMetricWarning: Recall is ill-defined and being set to 0.0 in labels with no true samples. Use `zero_division` parameter to control this behavior.\n",
      "  _warn_prf(average, modifier, f\"{metric.capitalize()} is\", result.shape[0])\n",
      "C:\\Users\\helam\\AppData\\Local\\Packages\\PythonSoftwareFoundation.Python.3.12_qbz5n2kfra8p0\\LocalCache\\local-packages\\Python312\\site-packages\\sklearn\\metrics\\_classification.py:1706: UndefinedMetricWarning: Recall is ill-defined and being set to 0.0 in labels with no true samples. Use `zero_division` parameter to control this behavior.\n",
      "  _warn_prf(average, modifier, f\"{metric.capitalize()} is\", result.shape[0])\n",
      "C:\\Users\\helam\\AppData\\Local\\Packages\\PythonSoftwareFoundation.Python.3.12_qbz5n2kfra8p0\\LocalCache\\local-packages\\Python312\\site-packages\\sklearn\\metrics\\_classification.py:1706: UndefinedMetricWarning: Recall is ill-defined and being set to 0.0 in labels with no true samples. Use `zero_division` parameter to control this behavior.\n",
      "  _warn_prf(average, modifier, f\"{metric.capitalize()} is\", result.shape[0])\n"
     ]
    }
   ],
   "execution_count": 12
  },
  {
   "metadata": {
    "ExecuteTime": {
     "end_time": "2025-09-30T05:15:06.729327Z",
     "start_time": "2025-09-30T05:15:06.677495Z"
    }
   },
   "cell_type": "code",
   "source": [
    "clf_fs = LogisticRegression(max_iter=200)\n",
    "clf_fs.fit(X_train, train[\"label\"])\n",
    "fs_preds = clf_fs.predict(X_test)\n",
    "print(\"Fully supervised performance:\")\n",
    "# print(classification_report(y_test, fs_preds))"
   ],
   "id": "9c9270df9bc07677",
   "outputs": [
    {
     "ename": "ValueError",
     "evalue": "This solver needs samples of at least 2 classes in the data, but the data contains only one class: np.int64(0)",
     "output_type": "error",
     "traceback": [
      "\u001B[1;31m---------------------------------------------------------------------------\u001B[0m",
      "\u001B[1;31mValueError\u001B[0m                                Traceback (most recent call last)",
      "Cell \u001B[1;32mIn[19], line 2\u001B[0m\n\u001B[0;32m      1\u001B[0m clf_fs \u001B[38;5;241m=\u001B[39m LogisticRegression(max_iter\u001B[38;5;241m=\u001B[39m\u001B[38;5;241m200\u001B[39m)\n\u001B[1;32m----> 2\u001B[0m \u001B[43mclf_fs\u001B[49m\u001B[38;5;241;43m.\u001B[39;49m\u001B[43mfit\u001B[49m\u001B[43m(\u001B[49m\u001B[43mX_train\u001B[49m\u001B[43m,\u001B[49m\u001B[43m \u001B[49m\u001B[43mtrain\u001B[49m\u001B[43m[\u001B[49m\u001B[38;5;124;43m\"\u001B[39;49m\u001B[38;5;124;43mlabel\u001B[39;49m\u001B[38;5;124;43m\"\u001B[39;49m\u001B[43m]\u001B[49m\u001B[43m)\u001B[49m\n\u001B[0;32m      3\u001B[0m fs_preds \u001B[38;5;241m=\u001B[39m clf_fs\u001B[38;5;241m.\u001B[39mpredict(X_test)\n\u001B[0;32m      4\u001B[0m \u001B[38;5;28mprint\u001B[39m(\u001B[38;5;124m\"\u001B[39m\u001B[38;5;124mFully supervised performance:\u001B[39m\u001B[38;5;124m\"\u001B[39m)\n",
      "File \u001B[1;32m~\\AppData\\Local\\Packages\\PythonSoftwareFoundation.Python.3.12_qbz5n2kfra8p0\\LocalCache\\local-packages\\Python312\\site-packages\\sklearn\\base.py:1363\u001B[0m, in \u001B[0;36m_fit_context.<locals>.decorator.<locals>.wrapper\u001B[1;34m(estimator, *args, **kwargs)\u001B[0m\n\u001B[0;32m   1356\u001B[0m     estimator\u001B[38;5;241m.\u001B[39m_validate_params()\n\u001B[0;32m   1358\u001B[0m \u001B[38;5;28;01mwith\u001B[39;00m config_context(\n\u001B[0;32m   1359\u001B[0m     skip_parameter_validation\u001B[38;5;241m=\u001B[39m(\n\u001B[0;32m   1360\u001B[0m         prefer_skip_nested_validation \u001B[38;5;129;01mor\u001B[39;00m global_skip_validation\n\u001B[0;32m   1361\u001B[0m     )\n\u001B[0;32m   1362\u001B[0m ):\n\u001B[1;32m-> 1363\u001B[0m     \u001B[38;5;28;01mreturn\u001B[39;00m \u001B[43mfit_method\u001B[49m\u001B[43m(\u001B[49m\u001B[43mestimator\u001B[49m\u001B[43m,\u001B[49m\u001B[43m \u001B[49m\u001B[38;5;241;43m*\u001B[39;49m\u001B[43margs\u001B[49m\u001B[43m,\u001B[49m\u001B[43m \u001B[49m\u001B[38;5;241;43m*\u001B[39;49m\u001B[38;5;241;43m*\u001B[39;49m\u001B[43mkwargs\u001B[49m\u001B[43m)\u001B[49m\n",
      "File \u001B[1;32m~\\AppData\\Local\\Packages\\PythonSoftwareFoundation.Python.3.12_qbz5n2kfra8p0\\LocalCache\\local-packages\\Python312\\site-packages\\sklearn\\linear_model\\_logistic.py:1327\u001B[0m, in \u001B[0;36mLogisticRegression.fit\u001B[1;34m(self, X, y, sample_weight)\u001B[0m\n\u001B[0;32m   1325\u001B[0m classes_ \u001B[38;5;241m=\u001B[39m \u001B[38;5;28mself\u001B[39m\u001B[38;5;241m.\u001B[39mclasses_\n\u001B[0;32m   1326\u001B[0m \u001B[38;5;28;01mif\u001B[39;00m n_classes \u001B[38;5;241m<\u001B[39m \u001B[38;5;241m2\u001B[39m:\n\u001B[1;32m-> 1327\u001B[0m     \u001B[38;5;28;01mraise\u001B[39;00m \u001B[38;5;167;01mValueError\u001B[39;00m(\n\u001B[0;32m   1328\u001B[0m         \u001B[38;5;124m\"\u001B[39m\u001B[38;5;124mThis solver needs samples of at least 2 classes\u001B[39m\u001B[38;5;124m\"\u001B[39m\n\u001B[0;32m   1329\u001B[0m         \u001B[38;5;124m\"\u001B[39m\u001B[38;5;124m in the data, but the data contains only one\u001B[39m\u001B[38;5;124m\"\u001B[39m\n\u001B[0;32m   1330\u001B[0m         \u001B[38;5;124m\"\u001B[39m\u001B[38;5;124m class: \u001B[39m\u001B[38;5;132;01m%r\u001B[39;00m\u001B[38;5;124m\"\u001B[39m \u001B[38;5;241m%\u001B[39m classes_[\u001B[38;5;241m0\u001B[39m]\n\u001B[0;32m   1331\u001B[0m     )\n\u001B[0;32m   1333\u001B[0m \u001B[38;5;28;01mif\u001B[39;00m \u001B[38;5;28mlen\u001B[39m(\u001B[38;5;28mself\u001B[39m\u001B[38;5;241m.\u001B[39mclasses_) \u001B[38;5;241m==\u001B[39m \u001B[38;5;241m2\u001B[39m:\n\u001B[0;32m   1334\u001B[0m     n_classes \u001B[38;5;241m=\u001B[39m \u001B[38;5;241m1\u001B[39m\n",
      "\u001B[1;31mValueError\u001B[0m: This solver needs samples of at least 2 classes in the data, but the data contains only one class: np.int64(0)"
     ]
    }
   ],
   "execution_count": 19
  },
  {
   "metadata": {
    "ExecuteTime": {
     "end_time": "2025-09-30T05:14:52.552005Z",
     "start_time": "2025-09-30T05:14:52.544675Z"
    }
   },
   "cell_type": "code",
   "source": "y_test",
   "id": "e4a2ee28230b5f95",
   "outputs": [
    {
     "data": {
      "text/plain": [
       "0      0\n",
       "1      0\n",
       "2      0\n",
       "3      0\n",
       "4      0\n",
       "      ..\n",
       "495    0\n",
       "496    0\n",
       "497    0\n",
       "498    0\n",
       "499    0\n",
       "Name: label, Length: 500, dtype: int64"
      ]
     },
     "execution_count": 16,
     "metadata": {},
     "output_type": "execute_result"
    }
   ],
   "execution_count": 16
  },
  {
   "metadata": {
    "ExecuteTime": {
     "end_time": "2025-09-30T05:14:56.218318Z",
     "start_time": "2025-09-30T05:14:56.199794Z"
    }
   },
   "cell_type": "code",
   "source": "fs_preds",
   "id": "b351a5b1ab14a48d",
   "outputs": [
    {
     "ename": "NameError",
     "evalue": "name 'fs_preds' is not defined",
     "output_type": "error",
     "traceback": [
      "\u001B[1;31m---------------------------------------------------------------------------\u001B[0m",
      "\u001B[1;31mNameError\u001B[0m                                 Traceback (most recent call last)",
      "Cell \u001B[1;32mIn[17], line 1\u001B[0m\n\u001B[1;32m----> 1\u001B[0m \u001B[43mfs_preds\u001B[49m\n",
      "\u001B[1;31mNameError\u001B[0m: name 'fs_preds' is not defined"
     ]
    }
   ],
   "execution_count": 17
  },
  {
   "metadata": {},
   "cell_type": "code",
   "outputs": [],
   "execution_count": null,
   "source": "",
   "id": "6d8be4018818da85"
  }
 ],
 "metadata": {
  "kernelspec": {
   "display_name": "Python 3",
   "language": "python",
   "name": "python3"
  },
  "language_info": {
   "codemirror_mode": {
    "name": "ipython",
    "version": 2
   },
   "file_extension": ".py",
   "mimetype": "text/x-python",
   "name": "python",
   "nbconvert_exporter": "python",
   "pygments_lexer": "ipython2",
   "version": "2.7.6"
  }
 },
 "nbformat": 4,
 "nbformat_minor": 5
}
